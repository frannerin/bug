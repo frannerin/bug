{
 "cells": [
  {
   "cell_type": "code",
   "execution_count": 1,
   "id": "ced01365",
   "metadata": {},
   "outputs": [],
   "source": [
    "import bug"
   ]
  },
  {
   "cell_type": "code",
   "execution_count": 2,
   "id": "210f7c0e-6f07-4cf7-80d0-44fa1b97a518",
   "metadata": {},
   "outputs": [],
   "source": [
    "active = bug.State(GPCR=36)"
   ]
  },
  {
   "cell_type": "code",
   "execution_count": null,
   "id": "44b5c57e-d7b0-4f4e-8159-06ab524becfe",
   "metadata": {},
   "outputs": [
    {
     "name": "stdout",
     "output_type": "stream",
     "text": [
      "<bug.Classes.State object at 0x7fdc1866fa60>\n",
      "new 3793 new<bug.Classes.State object at 0x7fdc18504430> 3794  <bug.Classes.State object at 0x7fdc18504340> ['__class__', '__delattr__', '__dict__', '__dir__', '__doc__', '__eq__', '__format__', '__ge__', '__getattribute__', '__gt__', '__hash__', '__init__', '__init_subclass__', '__le__', '__lt__', '__module__', '__ne__', '__new__', '__reduce__', '__reduce_ex__', '__repr__', '__setattr__', '__sizeof__', '__str__', '__subclasshook__', '__weakref__', 'calculate'] ['__class__', 'cls', 'kwargs', 'state']['__class__', '__delattr__', '__dict__', '__dir__', '__doc__', '__eq__', '__format__', '__ge__', '__getattribute__', '__gt__', '__hash__', '__init__', '__init_subclass__', '__le__', '__lt__', '__module__', '__ne__', '__new__', '__reduce__', '__reduce_ex__', '__repr__', '__setattr__', '__sizeof__', '__str__', '__subclasshook__', '__weakref__', 'calculate']\n",
      " "
     ]
    },
    {
     "name": "stderr",
     "output_type": "stream",
     "text": [
      "Process ForkPoolWorker-2:\n"
     ]
    },
    {
     "name": "stdout",
     "output_type": "stream",
     "text": [
      "['__class__', 'cls', 'kwargs', 'state']\n"
     ]
    },
    {
     "name": "stderr",
     "output_type": "stream",
     "text": [
      "Process ForkPoolWorker-1:\n",
      "Traceback (most recent call last):\n",
      "  File \"/gpcr/users/frann/networks/allovizenv2/lib/python3.9/site-packages/multiprocess/process.py\", line 315, in _bootstrap\n",
      "    self.run()\n",
      "Traceback (most recent call last):\n",
      "  File \"/gpcr/users/frann/networks/allovizenv2/lib/python3.9/site-packages/multiprocess/process.py\", line 108, in run\n",
      "    self._target(*self._args, **self._kwargs)\n",
      "  File \"/gpcr/users/frann/networks/allovizenv2/lib/python3.9/site-packages/multiprocess/pool.py\", line 114, in worker\n",
      "    task = get()\n",
      "  File \"/gpcr/users/frann/networks/allovizenv2/lib/python3.9/site-packages/multiprocess/queues.py\", line 371, in get\n",
      "    return _ForkingPickler.loads(res)\n",
      "  File \"/gpcr/users/frann/networks/allovizenv2/lib/python3.9/site-packages/multiprocess/process.py\", line 315, in _bootstrap\n",
      "    self.run()\n",
      "  File \"/gpcr/users/frann/networks/allovizenv2/lib/python3.9/site-packages/multiprocess/process.py\", line 108, in run\n",
      "    self._target(*self._args, **self._kwargs)\n",
      "  File \"/gpcr/users/frann/networks/allovizenv2/lib/python3.9/site-packages/multiprocess/pool.py\", line 114, in worker\n",
      "    task = get()\n",
      "  File \"/gpcr/users/frann/networks/allovizenv2/lib/python3.9/site-packages/dill/_dill.py\", line 327, in loads\n",
      "    return load(file, ignore, **kwds)\n",
      "  File \"/gpcr/users/frann/networks/allovizenv2/lib/python3.9/site-packages/multiprocess/queues.py\", line 371, in get\n",
      "    return _ForkingPickler.loads(res)\n",
      "  File \"/gpcr/users/frann/networks/allovizenv2/lib/python3.9/site-packages/dill/_dill.py\", line 327, in loads\n",
      "    return load(file, ignore, **kwds)\n",
      "  File \"/gpcr/users/frann/networks/allovizenv2/lib/python3.9/site-packages/dill/_dill.py\", line 313, in load\n",
      "    return Unpickler(file, ignore=ignore, **kwds).load()\n",
      "  File \"/gpcr/users/frann/networks/allovizenv2/lib/python3.9/site-packages/dill/_dill.py\", line 313, in load\n",
      "    return Unpickler(file, ignore=ignore, **kwds).load()\n",
      "  File \"/gpcr/users/frann/networks/allovizenv2/lib/python3.9/site-packages/dill/_dill.py\", line 525, in load\n",
      "    obj = StockUnpickler.load(self)\n",
      "  File \"/gpcr/users/frann/networks/alloviz/gitdev/bug/bug/Pkgs.py\", line 41, in __new__\n",
      "    new = super().__new__(cls, state, **kwargs)\n",
      "  File \"/gpcr/users/frann/networks/alloviz/gitdev/bug/bug/Pkgs.py\", line 14, in __new__\n",
      "    new._pdb = new.state._pdbf\n",
      "AttributeError: 'State' object has no attribute '_pdbf'\n",
      "  File \"/gpcr/users/frann/networks/allovizenv2/lib/python3.9/site-packages/dill/_dill.py\", line 525, in load\n",
      "    obj = StockUnpickler.load(self)\n",
      "  File \"/gpcr/users/frann/networks/alloviz/gitdev/bug/bug/Pkgs.py\", line 41, in __new__\n",
      "    new = super().__new__(cls, state, **kwargs)\n"
     ]
    },
    {
     "name": "stdout",
     "output_type": "stream",
     "text": [
      "<multiprocess.pool.Pool state=RUN pool_size=2>\n",
      "new 3687 <bug.Classes.State object at 0x7fdc1866fa60> ['GPCR', '__class__', '__delattr__', '__dict__', '__dir__', '__doc__', '__eq__', '__format__', '__ge__', '__getattribute__', '__gt__', '__hash__', '__init__', '__init_subclass__', '__le__', '__lt__', '__module__', '__ne__', '__new__', '__reduce__', '__reduce_ex__', '__repr__', '__setattr__', '__sizeof__', '__str__', '__subclasshook__', '__weakref__', '_gpcrmdid', '_pdbf', '_trajs', 'calculate'] ['__class__', 'cls', 'kwargs', 'state']\n"
     ]
    },
    {
     "name": "stderr",
     "output_type": "stream",
     "text": [
      "  File \"/gpcr/users/frann/networks/alloviz/gitdev/bug/bug/Pkgs.py\", line 14, in __new__\n",
      "    new._pdb = new.state._pdbf\n",
      "AttributeError: 'State' object has no attribute '_pdbf'\n"
     ]
    },
    {
     "name": "stdout",
     "output_type": "stream",
     "text": [
      "new 3892 <bug.Classes.State object at 0x7fdc196aac40> ['__class__', '__delattr__', '__dict__', '__dir__', '__doc__', '__eq__', '__format__', '__ge__', '__getattribute__', '__gt__', '__hash__', '__init__', '__init_subclass__', '__le__', '__lt__', '__module__', '__ne__', '__new__', '__reduce__', '__reduce_ex__', '__repr__', '__setattr__', '__sizeof__', '__slotnames__', '__str__', '__subclasshook__', '__weakref__', 'calculate'] ['__class__', 'cls', 'kwargs', 'state']\n"
     ]
    },
    {
     "name": "stderr",
     "output_type": "stream",
     "text": [
      "Process ForkPoolWorker-3:\n",
      "Traceback (most recent call last):\n",
      "  File \"/gpcr/users/frann/networks/allovizenv2/lib/python3.9/site-packages/multiprocess/process.py\", line 315, in _bootstrap\n",
      "    self.run()\n",
      "  File \"/gpcr/users/frann/networks/allovizenv2/lib/python3.9/site-packages/multiprocess/process.py\", line 108, in run\n",
      "    self._target(*self._args, **self._kwargs)\n",
      "  File \"/gpcr/users/frann/networks/allovizenv2/lib/python3.9/site-packages/multiprocess/pool.py\", line 114, in worker\n",
      "    task = get()\n",
      "  File \"/gpcr/users/frann/networks/allovizenv2/lib/python3.9/site-packages/multiprocess/queues.py\", line 371, in get\n",
      "    return _ForkingPickler.loads(res)\n",
      "  File \"/gpcr/users/frann/networks/allovizenv2/lib/python3.9/site-packages/dill/_dill.py\", line 327, in loads\n",
      "    return load(file, ignore, **kwds)\n",
      "  File \"/gpcr/users/frann/networks/allovizenv2/lib/python3.9/site-packages/dill/_dill.py\", line 313, in load\n",
      "    return Unpickler(file, ignore=ignore, **kwds).load()\n",
      "  File \"/gpcr/users/frann/networks/allovizenv2/lib/python3.9/site-packages/dill/_dill.py\", line 525, in load\n",
      "    obj = StockUnpickler.load(self)\n",
      "  File \"/gpcr/users/frann/networks/alloviz/gitdev/bug/bug/Pkgs.py\", line 41, in __new__\n",
      "    new = super().__new__(cls, state, **kwargs)\n",
      "  File \"/gpcr/users/frann/networks/alloviz/gitdev/bug/bug/Pkgs.py\", line 14, in __new__\n",
      "    new._pdb = new.state._pdbf\n",
      "AttributeError: 'State' object has no attribute '_pdbf'\n"
     ]
    }
   ],
   "source": [
    "print(active)\n",
    "active.calculate()"
   ]
  }
 ],
 "metadata": {
  "kernelspec": {
   "display_name": "Python 3 (ipykernel)",
   "language": "python",
   "name": "python3"
  },
  "language_info": {
   "codemirror_mode": {
    "name": "ipython",
    "version": 3
   },
   "file_extension": ".py",
   "mimetype": "text/x-python",
   "name": "python",
   "nbconvert_exporter": "python",
   "pygments_lexer": "ipython3",
   "version": "3.9.12"
  }
 },
 "nbformat": 4,
 "nbformat_minor": 5
}
